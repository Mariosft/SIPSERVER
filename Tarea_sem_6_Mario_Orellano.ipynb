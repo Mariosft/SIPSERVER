{
  "nbformat": 4,
  "nbformat_minor": 0,
  "metadata": {
    "colab": {
      "provenance": [],
      "authorship_tag": "ABX9TyPRyOrRkAf0kckFBBbobxhQ",
      "include_colab_link": true
    },
    "kernelspec": {
      "name": "python3",
      "display_name": "Python 3"
    },
    "language_info": {
      "name": "python"
    }
  },
  "cells": [
    {
      "cell_type": "markdown",
      "metadata": {
        "id": "view-in-github",
        "colab_type": "text"
      },
      "source": [
        "<a href=\"https://colab.research.google.com/github/Mariosft/SIPSERVER/blob/main/Tarea_sem_6_Mario_Orellano.ipynb\" target=\"_parent\"><img src=\"https://colab.research.google.com/assets/colab-badge.svg\" alt=\"Open In Colab\"/></a>"
      ]
    },
    {
      "cell_type": "code",
      "execution_count": 31,
      "metadata": {
        "colab": {
          "base_uri": "https://localhost:8080/"
        },
        "id": "CJMkPfYmOKm-",
        "outputId": "6a06f819-b734-45e0-e492-138e61b480dd"
      },
      "outputs": [
        {
          "output_type": "stream",
          "name": "stdout",
          "text": [
            "Divisores propios de 1184: [1, 2, 4, 8, 16, 32, 37, 74, 148, 296, 592] La suma de los divisores propios de 1184 es 1210.\n",
            "Divisores propios de 1210: [1, 2, 4, 8, 16, 32, 37, 74, 148, 296, 592, 1, 2, 5, 10, 11, 22, 55, 110, 121, 242, 605] La suma de los divisores propios de 1210 es 1184.\n",
            "\n",
            "Los números 1184 y 1210 son amigos.\n"
          ]
        }
      ],
      "source": [
        "# Actividad formativa semana 6 Electiva de prof. III\n",
        "def suma_divisores_propios(n, i=1, suma=0, divisores=[]):\n",
        "    if i > n // 2:\n",
        "        return suma, divisores\n",
        "    if n % i == 0:\n",
        "        suma += i\n",
        "        divisores.append(i)\n",
        "    return suma_divisores_propios(n, i + 1, suma, divisores)\n",
        "\n",
        "def son_amigos(num1, num2):\n",
        "    if num1 <= 1 or num2 <= 1:\n",
        "        print(\"Los números deben ser mayores que 1.\")\n",
        "        return False\n",
        "    try:\n",
        "        suma1, divisores1 = suma_divisores_propios(num1)\n",
        "        print(f\"Divisores propios de {num1}: {divisores1} La suma de los divisores propios de {num1} es {suma1}.\")\n",
        "        suma2, divisores2 = suma_divisores_propios(num2)\n",
        "        print(f\"Divisores propios de {num2}: {divisores2} La suma de los divisores propios de {num2} es {suma2}.\")\n",
        "\n",
        "        if suma1 == num2 and suma2 == num1:\n",
        "            return True\n",
        "        else:\n",
        "            return False\n",
        "    except Exception as e:\n",
        "        print(f\"Error al calcular los divisores: {e}\")\n",
        "        return False\n",
        "\n",
        "# Ejemplo de uso: (1184 y 1210),(5020 y 5564),(220 y 284)\n",
        "num1 = 1184\n",
        "num2 = 1210\n",
        "\n",
        "if son_amigos(num1, num2):\n",
        "    print(f\"\\nLos números {num1} y {num2} son amigos.\")\n",
        "else:\n",
        "    print(f\"\\nLos números {num1} y {num2} no son amigos.\")"
      ]
    },
    {
      "cell_type": "code",
      "source": [],
      "metadata": {
        "id": "--l8Yd59YbV0"
      },
      "execution_count": null,
      "outputs": []
    }
  ]
}