{
  "nbformat": 4,
  "nbformat_minor": 0,
  "metadata": {
    "colab": {
      "provenance": [],
      "authorship_tag": "ABX9TyN8Bu+0WdHK+XEwLIudgfeg",
      "include_colab_link": true
    },
    "kernelspec": {
      "name": "python3",
      "display_name": "Python 3"
    },
    "language_info": {
      "name": "python"
    }
  },
  "cells": [
    {
      "cell_type": "markdown",
      "metadata": {
        "id": "view-in-github",
        "colab_type": "text"
      },
      "source": [
        "<a href=\"https://colab.research.google.com/github/Mariosft/SIPSERVER/blob/main/Tarea_sem_6_Mario_Orellano.ipynb\" target=\"_parent\"><img src=\"https://colab.research.google.com/assets/colab-badge.svg\" alt=\"Open In Colab\"/></a>"
      ]
    },
    {
      "cell_type": "code",
      "execution_count": 14,
      "metadata": {
        "colab": {
          "base_uri": "https://localhost:8080/"
        },
        "id": "CJMkPfYmOKm-",
        "outputId": "cd4025a6-07ed-48e5-fd14-1152298af774"
      },
      "outputs": [
        {
          "output_type": "stream",
          "name": "stdout",
          "text": [
            "Los números deben ser mayores que 1.\n",
            "Los números 1 y 2 no son amigos.\n"
          ]
        }
      ],
      "source": [
        "# Función recursiva para calcular la suma de los divisores propios de un número\n",
        "def suma_divisores_propios(n, i=1, suma=0):\n",
        "    if i == n:\n",
        "        return suma\n",
        "    if n % i == 0:\n",
        "        suma += i\n",
        "    return suma_divisores_propios(n, i + 1, suma)\n",
        "# Función principal para verificar si dos números son amigos\n",
        "def son_amigos(num1, num2):\n",
        "    if num1 <= 1 or num2 <= 1:\n",
        "        print(\"Los números deben ser mayores que 1.\")\n",
        "        return False\n",
        "    suma1 = suma_divisores_propios(num1)\n",
        "    suma2 = suma_divisores_propios(num2)\n",
        "    if suma1 == num2 and suma2 == num1:\n",
        "        return True\n",
        "    else:\n",
        "        return False\n",
        "# Ejemplo de uso:\n",
        "num1 = 1\n",
        "num2 = 2\n",
        "\n",
        "if son_amigos(num1, num2):\n",
        "    print(f\"Los números {num1} y {num2} son amigos.\")\n",
        "else:\n",
        "    print(f\"Los números {num1} y {num2} no son amigos.\")"
      ]
    }
  ]
}